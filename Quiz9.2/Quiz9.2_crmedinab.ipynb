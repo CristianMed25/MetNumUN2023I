{
  "nbformat": 4,
  "nbformat_minor": 0,
  "metadata": {
    "colab": {
      "provenance": [],
      "include_colab_link": true
    },
    "kernelspec": {
      "name": "python3",
      "display_name": "Python 3"
    },
    "language_info": {
      "name": "python"
    }
  },
  "cells": [
    {
      "cell_type": "markdown",
      "metadata": {
        "id": "view-in-github",
        "colab_type": "text"
      },
      "source": [
        "<a href=\"https://colab.research.google.com/github/CristianMed25/MetNumUN2024I/blob/main/Quiz9.2/Quiz9.2_crmedinab.ipynb\" target=\"_parent\"><img src=\"https://colab.research.google.com/assets/colab-badge.svg\" alt=\"Open In Colab\"/></a>"
      ]
    },
    {
      "cell_type": "markdown",
      "source": [
        "### Cramer by hand\n",
        "\n",
        "$$A = \\left[\n",
        "  \\begin{array}{cc}\n",
        "1 & 2\\\\\n",
        "3 & 4\n",
        "\\end{array}\n",
        "\\right],  \n",
        "b= \\left[\n",
        "\\begin{array}{c}\n",
        "5\\\\\n",
        "6\n",
        "\\end{array}\n",
        "\\right]\n",
        "$$\n",
        "$$\n",
        "Ax =B\n",
        "$$\n",
        "$$  \n",
        "\\left[\n",
        "  \\begin{array}{cc}\n",
        "1 & 2\\\\\n",
        "3 & 4\n",
        "\\end{array}\n",
        "\\right]\n",
        "\\left[\n",
        "\\begin{array}{c}\n",
        "x_1\\\\\n",
        "x_2\n",
        "\\end{array}\n",
        "\\right]  \n",
        "=\n",
        "\\left[\n",
        "\\begin{array}{c}\n",
        "5\\\\\n",
        "6\n",
        "\\end{array}\n",
        "\\right]\n",
        "$$\n",
        "\n",
        "$$Det\\ A =  (1 * 4) - (3 * 2)  = 4 - 6 = -2$$\n",
        "\n",
        "$$A_1 = \\left[\n",
        "  \\begin{array}{cc}\n",
        "5 & 2\\\\\n",
        "6 & 4\n",
        "\\end{array}\n",
        "\\right]\n",
        "$$\n",
        "\n",
        "$$Det\\ A_1 = (5 * 4) - (6 * 2) = 20 - 12 =  8$$\n",
        "\n",
        "$$x_1 =  \\frac{Det\\ A_1}{Det\\ A}= \\frac{8}{-2} =  -4$$\n",
        "\n",
        "$$A_2 = \\left[\n",
        "  \\begin{array}{cc}\n",
        "1 & 5\\\\\n",
        "3 & 6\n",
        "\\end{array}\n",
        "\\right]\n",
        "$$\n",
        "\n",
        "$$Det\\ A_2 = (1*6) - (3*5)  = 6 -15 = -9$$\n",
        "\n",
        "$$x_2 = \\frac{Det\\ A_2}{Det\\ A}= \\frac{-9}{-2} =  \\frac{9}{2}$$"
      ],
      "metadata": {
        "id": "SUmNm2PmfHU7"
      }
    },
    {
      "cell_type": "markdown",
      "source": [
        "- ***Adding a single digit to any number requires about 7.30 bits of processing.*** - World Mental Calculation: News and Resources for Competitive and Advanced Mental Calculation https://worldmentalcalculation.com/2019/06/30/fastest-possible-processing-speed-of-the-human-brain/\n",
        "\n",
        "- ***The human brain can process 11 million bits of information every second. But our conscious minds can handle only 40 to 50 bits of information a second.*** - Understanding Unconscious Bias https://www.npr.org/2020/07/14/891140598/understanding-unconscious-bias\n",
        "\n",
        "- ***A new way to analyze human reaction times shows that the brain processes data no faster than 60 bits per second.***- New Measure of Human Brain Processing Speed https://www.technologyreview.com/2009/08/25/210267/new-measure-of-human-brain-processing-speed/\n",
        "\n",
        "\n"
      ],
      "metadata": {
        "id": "3rH8z64pk2XV"
      }
    },
    {
      "cell_type": "markdown",
      "source": [
        "# Number of operations to compute a determinant by cofactor expasion\n",
        "- Cofactor expansion https://people.math.carleton.ca/~kcheung/math/notes/MATH1107/07/07_cofactor_expansion.html\n",
        "## Definition of A(i∣j)\n",
        "Let $A$ be an $n\\times n$ matrix. Let $i,j \\in \\{1,…,n\\}$. We define $A(i∣j)$  to be the matrix obtained from $A$ by removing row $i$ and column $j$ from $A$.\n",
        "\n",
        "## Cofactor formula\n",
        "One way of computing the determinant of an $n\\times n$  matrix\n",
        "\n",
        "$$A = \\left[\n",
        "  \\begin{array}{cccc}\n",
        "a_{11} & a_{12} & \\cdots & a_{1n}\\\\\n",
        "a_{21} & a_{22} & \\cdots & a_{2n}\\\\\n",
        "\\vdots  & \\vdots & \\ddots & \\vdots\\\\\n",
        "a_{n1} & a_{n2} & \\cdots & a_{nn}\\\\\n",
        "\\end{array}\n",
        "\\right]\n",
        "$$\n",
        "is to use the following formula called the cofactor formula.\n",
        "\n",
        "Pick either any $i\\ \\in \\{1,…,n\\}$ (fixed row) or $i\\ \\in \\{1,…,n\\}$ (fixed column). Then\n",
        "\n",
        "$$\\det(A)  = \\sum_{j=1}^n (-1)^{i+j}a_{ij} \\det(A(i∣j)) $$\n",
        "\n",
        "\n",
        "$C_{i,j}= (-1)^{i+j}a_{ij} \\det(A(i∣j))$ is called a cofactor of $A$.\n",
        "\n",
        "$$\\det(A)  = \\sum_{j=1}^n C_{i,j} $$\n",
        "\n"
      ],
      "metadata": {
        "id": "CgrSIpDOnaGQ"
      }
    },
    {
      "cell_type": "code",
      "source": [
        "# Code from https://stackoverflow.com/questions/16510111/computing-determinant-of-a-matrix-nxn-recursively\n",
        "\n",
        "import numpy as np\n",
        "\n",
        "def smaller_matrix(original_matrix,row, column):\n",
        "    for ii in range(len(original_matrix)):\n",
        "        new_matrix=np.delete(original_matrix,ii,0)\n",
        "        new_matrix=np.delete(new_matrix,column,1)\n",
        "        return new_matrix\n",
        "\n",
        "\n",
        "def determinant(matrix):\n",
        "    \"\"\"Returns a determinant of a matrix by recursive method.\"\"\"\n",
        "    (r,c) = matrix.shape\n",
        "    if r != c:\n",
        "        print(\"Error!Not a square matrix!\")\n",
        "        return None\n",
        "    elif r==2:\n",
        "        simple_determinant = matrix[0][0]*matrix[1][1]-matrix[0][1]*matrix[1][0]\n",
        "        return simple_determinant\n",
        "    else:\n",
        "        answer=0\n",
        "        for j in range(r):\n",
        "            cofactor = (-1)**(0+j) * matrix[0][j] * determinant(smaller_matrix(matrix, 0, j))\n",
        "            answer+= cofactor\n",
        "        return answer"
      ],
      "metadata": {
        "id": "J-joKRBhC7eF"
      },
      "execution_count": null,
      "outputs": []
    },
    {
      "cell_type": "code",
      "source": [
        "#test the function\n",
        "#Only works for numpy.array input\n",
        "np.random.seed(1)"
      ],
      "metadata": {
        "id": "Il2pcRD4DptG"
      },
      "execution_count": null,
      "outputs": []
    },
    {
      "cell_type": "code",
      "source": [
        "n = 2\n",
        "matrix=np.random.randint(-5,5,size=(n,n))\n",
        "matrix"
      ],
      "metadata": {
        "colab": {
          "base_uri": "https://localhost:8080/"
        },
        "id": "AgKC1-aiFRW2",
        "outputId": "2f01ddc2-817e-4c26-f970-ce586a0be62d"
      },
      "execution_count": null,
      "outputs": [
        {
          "output_type": "execute_result",
          "data": {
            "text/plain": [
              "array([[-5, -5],\n",
              "       [-4,  2]])"
            ]
          },
          "metadata": {},
          "execution_count": 14
        }
      ]
    },
    {
      "cell_type": "code",
      "source": [
        "determinant(matrix)"
      ],
      "metadata": {
        "colab": {
          "base_uri": "https://localhost:8080/"
        },
        "outputId": "43102a95-aee8-4bd3-82b2-8f0d2b8b1963",
        "id": "oI0rUp-SDptH"
      },
      "execution_count": null,
      "outputs": [
        {
          "output_type": "execute_result",
          "data": {
            "text/plain": [
              "-30"
            ]
          },
          "metadata": {},
          "execution_count": 15
        }
      ]
    },
    {
      "cell_type": "code",
      "source": [
        "np.linalg.det(matrix)"
      ],
      "metadata": {
        "colab": {
          "base_uri": "https://localhost:8080/"
        },
        "id": "iqZv7iK-KKXH",
        "outputId": "47846970-a74e-478f-b0dd-8d681486bf62"
      },
      "execution_count": null,
      "outputs": [
        {
          "output_type": "execute_result",
          "data": {
            "text/plain": [
              "-29.99999999999999"
            ]
          },
          "metadata": {},
          "execution_count": 16
        }
      ]
    },
    {
      "cell_type": "code",
      "source": [
        "round(np.linalg.det(matrix))"
      ],
      "metadata": {
        "colab": {
          "base_uri": "https://localhost:8080/"
        },
        "id": "sY21rHM-KdlO",
        "outputId": "1d26af56-aeeb-4ea2-996f-f14f2ea84928"
      },
      "execution_count": null,
      "outputs": [
        {
          "output_type": "execute_result",
          "data": {
            "text/plain": [
              "-30"
            ]
          },
          "metadata": {},
          "execution_count": 17
        }
      ]
    },
    {
      "cell_type": "code",
      "source": [
        "n = 5\n",
        "matrix=np.diag(np.random.randint(-10,10,size=(n)))\n",
        "matrix"
      ],
      "metadata": {
        "colab": {
          "base_uri": "https://localhost:8080/"
        },
        "id": "-QXGZWFIDs5k",
        "outputId": "ed753296-8bc7-4a35-a355-30a7225702e9"
      },
      "execution_count": null,
      "outputs": [
        {
          "output_type": "execute_result",
          "data": {
            "text/plain": [
              "array([[ 3,  0,  0,  0,  0],\n",
              "       [ 0, -4,  0,  0,  0],\n",
              "       [ 0,  0,  8,  0,  0],\n",
              "       [ 0,  0,  0, -5,  0],\n",
              "       [ 0,  0,  0,  0,  8]])"
            ]
          },
          "metadata": {},
          "execution_count": 18
        }
      ]
    },
    {
      "cell_type": "code",
      "source": [
        "determinant(matrix)"
      ],
      "metadata": {
        "colab": {
          "base_uri": "https://localhost:8080/"
        },
        "id": "VP6hRwhwD-3W",
        "outputId": "95db585e-8ac2-4285-e70b-d9d4e2590734"
      },
      "execution_count": null,
      "outputs": [
        {
          "output_type": "execute_result",
          "data": {
            "text/plain": [
              "3840"
            ]
          },
          "metadata": {},
          "execution_count": 19
        }
      ]
    },
    {
      "cell_type": "code",
      "source": [
        "np.linalg.det(matrix)"
      ],
      "metadata": {
        "colab": {
          "base_uri": "https://localhost:8080/"
        },
        "id": "8NV7Zvp-KtRz",
        "outputId": "275dbcb4-e471-47b8-e963-ab27cb7c19d4"
      },
      "execution_count": null,
      "outputs": [
        {
          "output_type": "execute_result",
          "data": {
            "text/plain": [
              "3839.9999999999977"
            ]
          },
          "metadata": {},
          "execution_count": 20
        }
      ]
    },
    {
      "cell_type": "code",
      "source": [
        "round(np.linalg.det(matrix))"
      ],
      "metadata": {
        "colab": {
          "base_uri": "https://localhost:8080/"
        },
        "id": "HXKK3weLKt5T",
        "outputId": "0ac66def-b45e-4404-93bb-e682409d08b5"
      },
      "execution_count": null,
      "outputs": [
        {
          "output_type": "execute_result",
          "data": {
            "text/plain": [
              "3840"
            ]
          },
          "metadata": {},
          "execution_count": 21
        }
      ]
    },
    {
      "cell_type": "code",
      "source": [
        "# Modified from the previous code\n",
        "import numpy as np\n",
        "\n",
        "# A a squared numpy matrix\n",
        "def det(A):\n",
        "    \"\"\"Returns a determinant of a matrix by recursive method.\"\"\"\n",
        "    (r,c) = A.shape\n",
        "    if r != c:\n",
        "        print(\"Error!Not a square matrix!\")\n",
        "        return None\n",
        "    elif r==1:\n",
        "          # the code with  r==2 is more efficient but we use this\n",
        "         # because the number of operations is easier to compute\n",
        "        return A[0][0]\n",
        "    else:\n",
        "        answer=0\n",
        "        for j in range(r):\n",
        "            s = 1 if (0+j)%2 == 0 else -1\n",
        "            Aij = np.delete(A,0,0)\n",
        "            Aij = np.delete(Aij,j,1)\n",
        "            cofactor = (s) * A[0][j] * det(Aij)\n",
        "            answer+= cofactor\n",
        "        return answer"
      ],
      "metadata": {
        "id": "B258g8lnBgnG"
      },
      "execution_count": null,
      "outputs": []
    },
    {
      "cell_type": "code",
      "source": [
        "#test the function\n",
        "#Only works for numpy.array input\n",
        "np.random.seed(1)"
      ],
      "metadata": {
        "id": "ZR2mjlqiGdM6"
      },
      "execution_count": null,
      "outputs": []
    },
    {
      "cell_type": "code",
      "source": [
        "n = 2\n",
        "A=np.random.randint(-5,5,size=(n,n))\n",
        "A"
      ],
      "metadata": {
        "colab": {
          "base_uri": "https://localhost:8080/"
        },
        "outputId": "6634930e-01cb-46cb-dccf-a798191e8e4d",
        "id": "jPpBCFaoGlak"
      },
      "execution_count": null,
      "outputs": [
        {
          "output_type": "execute_result",
          "data": {
            "text/plain": [
              "array([[0, 3],\n",
              "       [4, 0]])"
            ]
          },
          "metadata": {},
          "execution_count": 24
        }
      ]
    },
    {
      "cell_type": "code",
      "source": [
        "det(A)"
      ],
      "metadata": {
        "colab": {
          "base_uri": "https://localhost:8080/"
        },
        "outputId": "b9aa9a0f-6490-4edb-c3f6-f4fa4d0f0ac5",
        "id": "WKbuirZeGlak"
      },
      "execution_count": null,
      "outputs": [
        {
          "output_type": "execute_result",
          "data": {
            "text/plain": [
              "-12"
            ]
          },
          "metadata": {},
          "execution_count": 25
        }
      ]
    },
    {
      "cell_type": "code",
      "source": [
        "determinant(A)"
      ],
      "metadata": {
        "colab": {
          "base_uri": "https://localhost:8080/"
        },
        "id": "_B5xBFirTvQm",
        "outputId": "4256574b-96e1-4efe-9d17-af28ac290bee"
      },
      "execution_count": null,
      "outputs": [
        {
          "output_type": "execute_result",
          "data": {
            "text/plain": [
              "-12"
            ]
          },
          "metadata": {},
          "execution_count": 26
        }
      ]
    },
    {
      "cell_type": "code",
      "source": [
        "np.linalg.det(A)"
      ],
      "metadata": {
        "colab": {
          "base_uri": "https://localhost:8080/"
        },
        "outputId": "14b09216-281a-4603-c78d-0a290caa6a28",
        "id": "bRyF2dsFLbXC"
      },
      "execution_count": null,
      "outputs": [
        {
          "output_type": "execute_result",
          "data": {
            "text/plain": [
              "-12.0"
            ]
          },
          "metadata": {},
          "execution_count": 27
        }
      ]
    },
    {
      "cell_type": "code",
      "source": [
        "round(np.linalg.det(A))"
      ],
      "metadata": {
        "colab": {
          "base_uri": "https://localhost:8080/"
        },
        "outputId": "29edfc6e-7202-4313-b099-6c910a78e689",
        "id": "sOe1w9FPLbXD"
      },
      "execution_count": null,
      "outputs": [
        {
          "output_type": "execute_result",
          "data": {
            "text/plain": [
              "-12"
            ]
          },
          "metadata": {},
          "execution_count": 28
        }
      ]
    },
    {
      "cell_type": "code",
      "source": [
        "n = 10\n",
        "\n",
        "A=np.random.randint(-10,10,size=(n,n))\n",
        "\n",
        "A"
      ],
      "metadata": {
        "colab": {
          "base_uri": "https://localhost:8080/"
        },
        "outputId": "4279086c-6a67-44a6-8437-efa3b5b469b1",
        "id": "jzFX1soHGlak"
      },
      "execution_count": null,
      "outputs": [
        {
          "output_type": "execute_result",
          "data": {
            "text/plain": [
              "array([[  5, -10,   6,  -9,   2,  -3,   3,  -4,   8,  -5],\n",
              "       [  8,   1,   0,   4,   8,  -6,  -1,   7, -10,   3],\n",
              "       [ -1,  -1,  -3,  -9, -10,   7,  -2,   3,   9,   5],\n",
              "       [  0,  -2,  -3,  -7,  -4,   7,  -7,  -6,   7,   1],\n",
              "       [  2,   6,   3,   9,  -1,   8,   5, -10,  -6,   5],\n",
              "       [ -8,  -3,  -2,  -1,  -7,  -3,  -6,  -5,   9,  -4],\n",
              "       [ -2, -10,  -8,   0,   5,   5,  -3,   9,   0,   4],\n",
              "       [-10,  -9,   7,   3,  -7, -10,   3,  -4,  -4,  -8],\n",
              "       [  2,   1,  -3,   3,  -2,   1,   2,   1,  -6,  -3],\n",
              "       [ -3,   3,  -6,   6,   8, -10,   3,   0,   7,  -3]])"
            ]
          },
          "metadata": {},
          "execution_count": 29
        }
      ]
    },
    {
      "cell_type": "code",
      "source": [
        "import time\n",
        "\n",
        "start_time = time.time()\n",
        "d = det(A)\n",
        "end_time = time.time()"
      ],
      "metadata": {
        "id": "I97qAqxGGlak"
      },
      "execution_count": null,
      "outputs": []
    },
    {
      "cell_type": "code",
      "source": [
        "print(\"det(A): \",d)\n",
        "print(\"time: \",end_time - start_time)"
      ],
      "metadata": {
        "colab": {
          "base_uri": "https://localhost:8080/"
        },
        "id": "s7Ud-gBiTD0n",
        "outputId": "c6a26da6-f2db-46ba-c0fa-e6acc91c1030"
      },
      "execution_count": null,
      "outputs": [
        {
          "output_type": "stream",
          "name": "stdout",
          "text": [
            "det(A):  29129065307\n",
            "time:  73.7059919834137\n"
          ]
        }
      ]
    },
    {
      "cell_type": "code",
      "source": [
        "import time\n",
        "\n",
        "start_time = time.time()\n",
        "d = determinant(A)\n",
        "end_time = time.time()"
      ],
      "metadata": {
        "id": "kjLXFQOeTRd2"
      },
      "execution_count": null,
      "outputs": []
    },
    {
      "cell_type": "code",
      "source": [
        "print(\"determinant(A): \",d)\n",
        "print(\"time: \",end_time - start_time)"
      ],
      "metadata": {
        "colab": {
          "base_uri": "https://localhost:8080/"
        },
        "id": "_TQFWy4ZSiDZ",
        "outputId": "a6e29d37-94b2-44c9-ae6e-4a085a8e4c50"
      },
      "execution_count": null,
      "outputs": [
        {
          "output_type": "stream",
          "name": "stdout",
          "text": [
            "determinant(A):  29129065307\n",
            "time:  35.18844199180603\n"
          ]
        }
      ]
    },
    {
      "cell_type": "code",
      "source": [
        "import time\n",
        "\n",
        "start_time = time.time()\n",
        "d = np.linalg.det(A)\n",
        "end_time = time.time()"
      ],
      "metadata": {
        "id": "jL23i77VT55-"
      },
      "execution_count": null,
      "outputs": []
    },
    {
      "cell_type": "code",
      "source": [
        "print(\"np.linalg.det(A): \",d)\n",
        "print(\"time: \",end_time - start_time)"
      ],
      "metadata": {
        "colab": {
          "base_uri": "https://localhost:8080/"
        },
        "id": "n94nx14VT5wn",
        "outputId": "b3625063-82ff-42c0-848c-fa4c13dc7074"
      },
      "execution_count": null,
      "outputs": [
        {
          "output_type": "stream",
          "name": "stdout",
          "text": [
            "np.linalg.det(A):  29129065306.99992\n",
            "time:  0.00031948089599609375\n"
          ]
        }
      ]
    },
    {
      "cell_type": "markdown",
      "source": [
        "# Estimating the time by instruction in Python in a Colab machine"
      ],
      "metadata": {
        "id": "Ssedt2z56DNC"
      }
    },
    {
      "cell_type": "code",
      "source": [
        "import numpy as np\n",
        "\n",
        "n = 100\n",
        "\n",
        "A = np.ones((n,n))\n",
        "\n",
        "A"
      ],
      "metadata": {
        "colab": {
          "base_uri": "https://localhost:8080/"
        },
        "id": "1KhlyeNi4uwa",
        "outputId": "43f62b36-218e-4928-9262-02fb11d51aa0"
      },
      "execution_count": null,
      "outputs": [
        {
          "output_type": "execute_result",
          "data": {
            "text/plain": [
              "array([[1., 1., 1., ..., 1., 1., 1.],\n",
              "       [1., 1., 1., ..., 1., 1., 1.],\n",
              "       [1., 1., 1., ..., 1., 1., 1.],\n",
              "       ...,\n",
              "       [1., 1., 1., ..., 1., 1., 1.],\n",
              "       [1., 1., 1., ..., 1., 1., 1.],\n",
              "       [1., 1., 1., ..., 1., 1., 1.]])"
            ]
          },
          "metadata": {},
          "execution_count": 4
        }
      ]
    },
    {
      "cell_type": "code",
      "source": [
        "B = np.ones((n,n))\n",
        "\n",
        "B"
      ],
      "metadata": {
        "colab": {
          "base_uri": "https://localhost:8080/"
        },
        "id": "RKtHO3UY5M87",
        "outputId": "d533eab2-48d0-4af6-88cd-d093d5b46a7b"
      },
      "execution_count": null,
      "outputs": [
        {
          "output_type": "execute_result",
          "data": {
            "text/plain": [
              "array([[1., 1., 1., ..., 1., 1., 1.],\n",
              "       [1., 1., 1., ..., 1., 1., 1.],\n",
              "       [1., 1., 1., ..., 1., 1., 1.],\n",
              "       ...,\n",
              "       [1., 1., 1., ..., 1., 1., 1.],\n",
              "       [1., 1., 1., ..., 1., 1., 1.],\n",
              "       [1., 1., 1., ..., 1., 1., 1.]])"
            ]
          },
          "metadata": {},
          "execution_count": 5
        }
      ]
    },
    {
      "cell_type": "code",
      "source": [
        "import time\n",
        "\n",
        "C= np.zeros((n,n))\n",
        "\n",
        "start_time = time.time()\n",
        "for i in range(n):\n",
        "        for j in range(n):\n",
        "            C[i][j] = 0\n",
        "            for k in range(len(A[0])):\n",
        "                C[i][j] += A[i][k] * B[k][j]\n",
        "end_time = time.time()\n",
        "print(end_time - start_time)"
      ],
      "metadata": {
        "colab": {
          "base_uri": "https://localhost:8080/"
        },
        "id": "0UFSLi-F5P0a",
        "outputId": "461c3361-4e50-4a44-914f-abc0ac824ce4"
      },
      "execution_count": null,
      "outputs": [
        {
          "output_type": "stream",
          "name": "stdout",
          "text": [
            "1.2124149799346924\n"
          ]
        }
      ]
    },
    {
      "cell_type": "code",
      "source": [
        "C"
      ],
      "metadata": {
        "colab": {
          "base_uri": "https://localhost:8080/"
        },
        "id": "h9zr4Z9P61bs",
        "outputId": "46b7beac-e1d0-4d0b-9715-6639209d7a83"
      },
      "execution_count": null,
      "outputs": [
        {
          "output_type": "execute_result",
          "data": {
            "text/plain": [
              "array([[100., 100., 100., ..., 100., 100., 100.],\n",
              "       [100., 100., 100., ..., 100., 100., 100.],\n",
              "       [100., 100., 100., ..., 100., 100., 100.],\n",
              "       ...,\n",
              "       [100., 100., 100., ..., 100., 100., 100.],\n",
              "       [100., 100., 100., ..., 100., 100., 100.],\n",
              "       [100., 100., 100., ..., 100., 100., 100.]])"
            ]
          },
          "metadata": {},
          "execution_count": 7
        }
      ]
    },
    {
      "cell_type": "code",
      "source": [
        "time_by_oper_python = (end_time - start_time)/(2*n**3 - n**2)\n",
        "\n",
        "time_by_oper_python"
      ],
      "metadata": {
        "colab": {
          "base_uri": "https://localhost:8080/"
        },
        "id": "iEhaMEK77Ko7",
        "outputId": "e8357a69-e7c6-42a4-c8d5-4807a7cb6491"
      },
      "execution_count": null,
      "outputs": [
        {
          "output_type": "execute_result",
          "data": {
            "text/plain": [
              "6.09253758761152e-07"
            ]
          },
          "metadata": {},
          "execution_count": 8
        }
      ]
    },
    {
      "cell_type": "code",
      "source": [
        "import time\n",
        "import numpy as np\n",
        "\n",
        "start_time = time.time()\n",
        "C = A@B\n",
        "end_time = time.time()\n",
        "print(end_time - start_time)"
      ],
      "metadata": {
        "colab": {
          "base_uri": "https://localhost:8080/"
        },
        "id": "TfGsw6UF9o-a",
        "outputId": "7faa4139-a81a-4365-c61e-9a4981c4d5e8"
      },
      "execution_count": null,
      "outputs": [
        {
          "output_type": "stream",
          "name": "stdout",
          "text": [
            "0.008385896682739258\n"
          ]
        }
      ]
    },
    {
      "cell_type": "code",
      "source": [
        "C"
      ],
      "metadata": {
        "colab": {
          "base_uri": "https://localhost:8080/"
        },
        "id": "Q5MtZtVT93oQ",
        "outputId": "23d95883-dafc-4bb6-8e0c-1dd1fe2fbcc2"
      },
      "execution_count": null,
      "outputs": [
        {
          "output_type": "execute_result",
          "data": {
            "text/plain": [
              "array([[100., 100., 100., ..., 100., 100., 100.],\n",
              "       [100., 100., 100., ..., 100., 100., 100.],\n",
              "       [100., 100., 100., ..., 100., 100., 100.],\n",
              "       ...,\n",
              "       [100., 100., 100., ..., 100., 100., 100.],\n",
              "       [100., 100., 100., ..., 100., 100., 100.],\n",
              "       [100., 100., 100., ..., 100., 100., 100.]])"
            ]
          },
          "metadata": {},
          "execution_count": 10
        }
      ]
    },
    {
      "cell_type": "code",
      "source": [
        "time_by_oper_numpy = (end_time - start_time)/(2*n**3 - n**2)\n",
        "\n",
        "time_by_oper_numpy"
      ],
      "metadata": {
        "colab": {
          "base_uri": "https://localhost:8080/"
        },
        "id": "DTVYQYxT-TsJ",
        "outputId": "431072b6-a70c-46de-8401-3b8554a45355"
      },
      "execution_count": null,
      "outputs": [
        {
          "output_type": "execute_result",
          "data": {
            "text/plain": [
              "4.214018433537316e-09"
            ]
          },
          "metadata": {},
          "execution_count": 11
        }
      ]
    },
    {
      "cell_type": "markdown",
      "source": [
        "# Time estimation for the digital computer computation of a 3 x 3 matrix determinant by cofactor expansion\n",
        "\n",
        "The number of operations $(+,-,*)$ perfomed  *det(A)* algorithm that calculates\n",
        "\n",
        "$$\\det(A)  = \\sum_{j=1}^n (-1)^{i+j}a_{ij} \\det(A(i∣j)) $$\n",
        "\n",
        "is given by\n",
        "\n",
        "$$\\begin{array}{lll}\n",
        "T(n) & =&  nT(n-1) + 5n , T(1) = 1\\\\\n",
        "\\end{array}\n",
        "$$\n",
        "\n",
        "$$\\begin{array}{lll}\n",
        "T(n) & =&  nT(n-1) + 5n\\\\\n",
        "     & =&  n[(n-1) T(n-2) + 5 (n-1) +10] + 5n  \\\\\n",
        "     & =&  n(n-1) T(n-2) + 5 n  (n-1) + 5n \\\\\n",
        "     & =&  n(n-1) [(n-2) T(n-3) + 5 (n-2)] + 5 n(n-1) + 5n\\\\\n",
        "     & = & n(n-1)(n-2) T(n-3) + 5n(n-1)(n-2)+  5 n  (n-1) + 5n \\\\\n",
        "     & \\vdots\\\\\n",
        "     & = &  n(n-1)(n-2)\\cdots (n -(n-2))  T(1) + [5n(n-1)(n-2)(n-3)\\cdots (n -(n-3))] + \\cdots + [5 n (n-1)]+ 5n \\\\\n",
        "    & = & n! + [5n(n-1)(n-2)(n-3)\\cdots 2] + [5n(n-1)(n-2)(n-3)\\cdots 3]+ \\cdots +[5 n (n-1) (n-3)] + [5 n (n-1)]+ 5n  \n",
        "\\end{array}\n",
        "$$\n",
        "\n",
        "$$T(n) = n! + 5 \\sum_{i=0}^{n-1} n!/i! = n! + 5 n!\\sum_{i=0}^{n-1} \\frac{1}{i!} < n! + 5 e n! < 16 n!  $$\n",
        "\n",
        "1. Asumming that an arithmetic operation takes the *time_by_oper_python* estimated before,  what is the maximun square matrix size for which the deteminant can be computed with cofactor extesion in $\\le$ 3 minute. Report the time at [LABCramer](https://docs.google.com/spreadsheets/d/1JNUbuj3QHcyPmp8i6kNreUFucj2mOvKHkCFHHy7zfws/edit?usp=sharing).\n",
        "\n",
        "2. Run an experiment with a random matrix of that size and report the time at [LABCramer](https://docs.google.com/spreadsheets/d/1JNUbuj3QHcyPmp8i6kNreUFucj2mOvKHkCFHHy7zfws/edit?usp=sharing).\n",
        "\n",
        "If the determinant of a $n \\times n$ square matrix takes $16 n!$ operations how much takes the Crammer solution of $n \\times n$ systems of linear equations?\n",
        "\n",
        "\n",
        "\n",
        "\n"
      ],
      "metadata": {
        "id": "PhAai3wzo_Tc"
      }
    },
    {
      "cell_type": "markdown",
      "source": [
        "#*PUNTO 1*"
      ],
      "metadata": {
        "id": "jVyCzC0fbsm7"
      }
    },
    {
      "cell_type": "code",
      "source": [
        "import math\n",
        "\n",
        "def tiempo_cofactor(n):\n",
        "    return math.factorial(n) + 5 * sum(math.factorial(n) // math.factorial(i) for i in range(n))\n",
        "\n",
        "time_by_oper_python= 5.8*10**-7\n",
        "\n",
        "tiempo_limite = 3 * 60\n",
        "\n",
        "n = 1\n",
        "while True:\n",
        "    tiempo_total = tiempo_cofactor(n) * time_by_oper_python\n",
        "    if tiempo_total > tiempo_limite:\n",
        "        break\n",
        "    n += 1\n",
        "\n",
        "print(\"El tamaño máximo de matriz cuadrada es:\", n-1)\n",
        "print(\"El tiempo total en segundos es:\", tiempo_cofactor(n-1) * time_by_oper_python)"
      ],
      "metadata": {
        "id": "RmaNcjNJbsDQ",
        "outputId": "82e614d4-c0ed-4bb8-ac43-b822da5f6f37",
        "colab": {
          "base_uri": "https://localhost:8080/"
        }
      },
      "execution_count": null,
      "outputs": [
        {
          "output_type": "stream",
          "name": "stdout",
          "text": [
            "El tamaño máximo de matriz cuadrada es: 10\n",
            "El tiempo total en segundos es: 30.710593999999997\n"
          ]
        }
      ]
    },
    {
      "cell_type": "markdown",
      "source": [
        "#*PUNTO 2*"
      ],
      "metadata": {
        "id": "Bpf5nPapcs5t"
      }
    },
    {
      "cell_type": "code",
      "source": [
        "import numpy as np\n",
        "import math\n",
        "import time\n",
        "\n",
        "\n",
        "def det_by_cofactor(matrix):\n",
        "    n = len(matrix)\n",
        "    if n == 1:\n",
        "        return matrix[0, 0]\n",
        "    det = 0\n",
        "    for j in range(n):\n",
        "        sign = (-1) ** (0 + j)\n",
        "        sub_matrix = np.delete(matrix, 0, axis=0)\n",
        "        sub_matrix = np.delete(sub_matrix, j, axis=1)\n",
        "        det += sign * matrix[0, j] * det_by_cofactor(sub_matrix)\n",
        "    return det\n",
        "\n",
        "\n",
        "max_matrix_size = 10\n",
        "\n",
        "random_matrix = np.random.randint(1, 10, size=(max_matrix_size, max_matrix_size))\n",
        "\n",
        "start_time = time.time()\n",
        "determinant = det_by_cofactor(random_matrix)\n",
        "end_time = time.time()\n",
        "\n",
        "time_by_oper_python = 5.8*10**-7\n",
        "tiempo_total= tiempo_cofactor(max_matrix_size) * time_by_oper_python\n",
        "\n",
        "# Reportar resultados\n",
        "print(\"Matriz aleatoria de tamaño\", max_matrix_size, \"x\", max_matrix_size, \":\\n\", random_matrix)\n",
        "print(\"Valor determinante:\", determinant)\n",
        "print(\"Tiempo de cálculo total (en segundos):\", tiempo_total)\n",
        "print(\"Tiempo de cálculo real (en segundos):\", end_time - start_time)\n"
      ],
      "metadata": {
        "id": "ALz9kK0cb4Rp",
        "outputId": "c1295fc0-c83f-4e17-e737-b60691c928be",
        "colab": {
          "base_uri": "https://localhost:8080/"
        }
      },
      "execution_count": null,
      "outputs": [
        {
          "output_type": "stream",
          "name": "stdout",
          "text": [
            "Matriz aleatoria de tamaño 10 x 10 :\n",
            " [[1 8 4 7 9 4 4 9 5 9]\n",
            " [6 8 8 2 5 8 6 3 1 5]\n",
            " [5 2 4 9 4 7 1 9 3 1]\n",
            " [2 1 9 8 8 2 3 1 7 3]\n",
            " [3 4 1 1 7 1 1 4 5 5]\n",
            " [3 7 3 1 1 1 4 2 5 6]\n",
            " [7 2 7 4 6 7 4 2 4 8]\n",
            " [1 1 4 4 2 9 9 1 5 5]\n",
            " [4 1 9 5 2 6 1 5 6 8]\n",
            " [8 6 8 3 1 9 8 5 4 4]]\n",
            "Valor determinante: -276686100\n",
            "Tiempo de cálculo total (en segundos): 30.710593999999997\n",
            "Tiempo de cálculo real (en segundos): 77.30885887145996\n"
          ]
        }
      ]
    },
    {
      "cell_type": "markdown",
      "source": [
        "# Time estimation for the human computer computation of a 3 x 3 matrix determinant by cofactor expansion\n",
        "\n",
        " Write a 3 x 3 matrix with the first element as your list number Mod 10 and the rest row by row 1,2,3,...9 skipimg the first element, by example if youir list number is 12, your list number Mod 10 is 2 and the matrix is\n",
        "$$A = \\left[\n",
        "  \\begin{array}{ccc}\n",
        "2 & 1 & 3\\\\\n",
        "4 & 5 & 6\\\\\n",
        "7 & 8 & 9\\\\\n",
        "\\end{array}\n",
        "\\right]\n",
        "$$\n",
        "Use a chronometer like http://online-stopwatch.chronme.com/ to estimate the time to compute the determinant by using the procedure in the follo wing exmaple (https://people.math.carleton.ca/~kcheung/math/notes/MATH1107/07/07_cofactor_expansion.html):<br />  \n",
        "Let\n",
        "$$A = \\begin{bmatrix} 1 & 2 & 3\\\\ 4 & 5 & 6\\\\ 7 & 8 & 9 \\end{bmatrix}$$\n",
        "we compute $\\det(A)$ by expanding along row $2$ as <br /> <br />\n",
        "$$\\begin{eqnarray} \\det(A) & = & (-1)^{2+1}A_{2,1}\\det(A(2 \\mid 1)) + (-1)^{2+2}A_{2,2}\\det(A(2 \\mid 2)) + (-1)^{2+3}A_{2,3}\\det(A(2 \\mid 3)) \\\\ & = & -4\\left|\\begin{matrix} 2 & 3 \\\\ 8 & 9\\end{matrix}\\right| + 5\\left|\\begin{matrix} 1 & 3 \\\\ 7 & 9\\end{matrix}\\right| - 6\\left|\\begin{matrix} 1 & 2 \\\\ 7 & 8\\end{matrix}\\right| \\\\ & = & -4(2\\cdot 9 - 3\\cdot 8) + 5(1 \\cdot 9- 3\\cdot 7) - 6(1\\cdot 8 - 2 \\cdot 7) \\\\ & = & 24 - 60 + 36 \\\\ & = & 0 \\end{eqnarray}$$\n",
        "3. Report the time at [LABCramer](https://docs.google.com/spreadsheets/d/1JNUbuj3QHcyPmp8i6kNreUFucj2mOvKHkCFHHy7zfws/edit?usp=sharing)\n",
        "4. Report the value of the determinant at [LABCramer](https://docs.google.com/spreadsheets/d/1JNUbuj3QHcyPmp8i6kNreUFucj2mOvKHkCFHHy7zfws/edit?usp=sharing)\n"
      ],
      "metadata": {
        "id": "__brdhGadAXY"
      }
    },
    {
      "cell_type": "markdown",
      "source": [
        "## My list number is 25 Mod 10 is 5\n",
        "\n",
        "\n",
        "$$A = \\left[\n",
        "  \\begin{array}{ccc}\n",
        "5 & 1 & 2\\\\\n",
        "3 & 4 & 6\\\\\n",
        "7 & 8 & 9\\\\\n",
        "\\end{array}\n",
        "\\right]\n",
        "$$\n",
        "\n"
      ],
      "metadata": {
        "id": "bl-FJ4X2Ia-e"
      }
    },
    {
      "cell_type": "markdown",
      "source": [
        "#*PUNTO 3*"
      ],
      "metadata": {
        "id": "Ny-1eOnvejEo"
      }
    },
    {
      "cell_type": "markdown",
      "source": [
        "![image.png](data:image/png;base64,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)"
      ],
      "metadata": {
        "id": "8MhNTR73fLQq"
      }
    },
    {
      "cell_type": "markdown",
      "source": [
        "#*PUNTO 4*"
      ],
      "metadata": {
        "id": "6LH92BowfL11"
      }
    },
    {
      "cell_type": "markdown",
      "source": [
        "### **Valor determinante = -53**"
      ],
      "metadata": {
        "id": "IEzv4PSFf2nZ"
      }
    }
  ]
}